{
 "cells": [
  {
   "attachments": {},
   "cell_type": "markdown",
   "metadata": {},
   "source": [
    "tsk 1\n",
    "\n",
    "666 ac\n",
    "\n",
    "40% gli\n",
    "\n",
    "25% pro\n",
    "\n",
    "15%l iz\n",
    "\n",
    "20% other"
   ]
  },
  {
   "cell_type": "code",
   "execution_count": 13,
   "metadata": {},
   "outputs": [],
   "source": [
    "import random as rd\n",
    "l_ac = list(\"GPKQAVIPFYWSTDENCMHR\")"
   ]
  },
  {
   "cell_type": "code",
   "execution_count": 2,
   "metadata": {},
   "outputs": [
    {
     "data": {
      "text/plain": [
       "20"
      ]
     },
     "execution_count": 2,
     "metadata": {},
     "output_type": "execute_result"
    }
   ],
   "source": [
    "len(l_ac)"
   ]
  },
  {
   "cell_type": "code",
   "execution_count": 3,
   "metadata": {},
   "outputs": [],
   "source": [
    "def generate_l(sed):\n",
    "    if      sed < 40:\n",
    "                return l_ac[0]\n",
    "    elif    sed < 65:\n",
    "                return l_ac[1]\n",
    "    elif    sed < 80:\n",
    "                return l_ac[2]\n",
    "    else:   \n",
    "            return l_ac[rd.randint(3,19)]"
   ]
  },
  {
   "cell_type": "code",
   "execution_count": 4,
   "metadata": {},
   "outputs": [],
   "source": [
    "final_seq = list()\n",
    "for i in range(0,666):\n",
    "    final_seq.append(\n",
    "        generate_l(rd.randint(0,99))\n",
    "        )"
   ]
  },
  {
   "cell_type": "code",
   "execution_count": 7,
   "metadata": {},
   "outputs": [
    {
     "data": {
      "text/plain": [
       "'CPCGPPGGGPKPKPGGGGEGGPGEPGGGGGGPGPPHYVYGPPPSGRTWGGGGKKGGKNGGPKKPPGFGPCGGGGTGPGPKEISGGGGKKPGPKKGKQKPGGGGPSGKHKGGGPNKEGKYPGPPGGPGKCRGPGPGIKYEPTGGPVPGGAGHGQKGGGGPGGKKGGPGGGKRPGPGPYGPQFIKGPGPGYPMKGGKKGPPPKKPGGGKTGGKGPNKGPPGVPGGEPPPSPPPGKGPPPGGPGGKPGKRPHQGDPRAPGGPPQKGPYGKGPGPGGPPPGYKPGGGGGPGGGKGGPIGPGCPPIGGKGKPKFGPRSGGKGPGGMGPGPGMCMPPFPPKPGGGPPPGGGKGIGWHGKGHPKGKKGGPGPPPPGCPGGIPGDPGGGGGGGKGPGKGNGKNPMPGGGCPKPPKKPGGIMPGPGGGGKGGQGPGGPGGGKGKPGPGGGPRYGYHGGKGKPHPKDPSGGEPPGPGGGGPGDGPGKPPGPGMPGPKGKPPGPGGGPKKPGKPYPKGGGEGGYGKGPPSSKGVGPPGWPGGMPPKGPPPGPWKPPPGGGPGPGGAGKGKTKRPKKPKGGPQQGGPPPGGGPGNHKGPGKGSGAPPPGNPGGPPGGDGGPQPPGGPPPGSGKPPGPGPGGFPKKPGPGPGGNEKKGEGKGGPMGGQPCVPGKKGSPP'"
      ]
     },
     "execution_count": 7,
     "metadata": {},
     "output_type": "execute_result"
    }
   ],
   "source": [
    "''.join(final_seq)"
   ]
  },
  {
   "attachments": {},
   "cell_type": "markdown",
   "metadata": {},
   "source": [
    "tsk 2\n",
    "\n",
    "2000 nuckleotides\n",
    "GC = 80%"
   ]
  },
  {
   "cell_type": "code",
   "execution_count": 11,
   "metadata": {},
   "outputs": [],
   "source": [
    "nuckleo_l = list(\"ATGC\")"
   ]
  },
  {
   "cell_type": "code",
   "execution_count": 9,
   "metadata": {},
   "outputs": [],
   "source": [
    "def generate_n(sed):\n",
    "    if      sed < 10:\n",
    "                return nuckleo_l[0]\n",
    "    elif    sed < 20:\n",
    "                return nuckleo_l[1]\n",
    "    elif    sed < 60:\n",
    "                return nuckleo_l[2]\n",
    "    else:\n",
    "                return nuckleo_l[3]"
   ]
  },
  {
   "cell_type": "code",
   "execution_count": 12,
   "metadata": {},
   "outputs": [
    {
     "data": {
      "text/plain": [
       "'CCGGGCCGCGGAGCGAGAGGGGAGGGGTCATGCGTCGCACTCGGCGCCGCGCTGACCGAGGCGCGGGGGCTGGCCGGGCCGCTGGGCACTAAGCAGGGCCAACGCGTGCGCGGTCCAGGGGCCGTCGTCCGGCCTTGCCCGGCGCCGCGCCGGGCCTCCTAGACGGCGCCAGCGTGGCGAGCCCGGTGGGGCCGGGTCAGGCGCGCCCGCGGCCGGGTCCCAGGTCGCGCGCACCGGGAGATGCAGGGACGTCGTGAGGGTCGCCTCTCCAGGGGGCCGGGCCGGCGTCGTGTGCCCTGCCTGCATGACAGGCCGGCCACAAGGCCGCCGACTCCCTGGGGTCGTCTACCCCGCCACCGTCTTGTGTGGTCCGGGGGCAGCGGTGGCCCCGCCCGCGCTACGGACCGGCGGCTGGGGCCGGCCGGGTCTCATTCCGCTGCCCGGCCGGCACGCGGGCAGCCCTGCCCTGAGTGCGAGGATACGGTTGGCGGAGCGCGCCCGGCCTGGGCTCGCGCTGCCCGCCCGCGGGCACGGCCAAGCGGGCACGCCGGCACGCGGCCTGGGACCGGAGGCGGGCAGCGGCGGCCGCGGCGGCAGAGCGAGGGGCGGCAGCTCCTACCACTCTCGGCCCTGCGGGGGGAGGCGCGCCCCACCACCCCAGCCTCACCGATTTGCCCACCTGGCCCCTCCCGCGGCGCGCAAGCACTCGCGGGGGCCCGCGACGCGCCACCAGGCCCCGCCGGCGCCGACCACCCCTGCCACCGGGGAGCCGGACGCCGACGGGTCGTGGGGGCGCCCGGGAGCGCTCGCCGCAGATCCCGGCCCGAGGCGGGCCGCCCCGGTGGCGGCCGCGCGCTCAAGGAGGAGCGGCCCCACACGCGTGCGAGGTCAGCGAGCAGACGAGCCGGCGGGCAGGCGCCAGACCGCCCGCCCCCGTCCTTTCGGCCAGGCTCTGGGCCATCTCACGGCGCGGGGCCCGGGCGCCCCCCTGTGCTCACTACCCAAGGTTCGGTCGGGTGCGGCGCATGCCCCTCCCCTCTCCCCACGGACGCCTCGCGTTTCAGCTGGCCCAGAACGCGGTGCCTGTGGGGCCGTCCTTGGCGGCCGGGCCCCCCAAGGGCGGGCGCGGGCCCACAGCGGGGAGCCCGCGCGGGGGGCTCGAGGGCGTGCCGCCAAGCGGTACGGGGACGCGCAGCCTCCCCTCCCGGCTCGGACTTCGGAGGTCGGGGGACGCCGCGCCACCCGTGGGCGCAACTATCCAGCCACCCAATGATGCCGCCGCTCCAGCCCCGACTCGTCAGGCCGGTGGTGAGCGGGGGGCTCCGGACCGCGTGCCGCCGCGCCGCCTGCTTGCAGCACCAGGAGCGCAACCACCAGAGGGGTCTAGCGACCGCGGGGGGCCGGCCCCGGCCGTCGGCGGCCAGGCGGTGCCGGGGGTACGCCCACCCGGGGGGGTCACCCCCGGAGCCGGCCCACGGGGAGGACGATCGGCGATCGCGGAGAATACCCAGTGCCACGACGGCTCGCGCGGGCCGCGGGCTTGCTGCGCGCCTCGCGCAACCGCGGGCGCGGAGCGCTCAGGCAGGGGGCCCTCCGACTGCCGGGGGCCGGGCGCGCCCCAGCACCGCCCCCGCACGCTGCGAGCCGGCCCCGTGACCCGGGAGCCGGCGACCTCGCCCCCCCGGCCCGCCGGGAGGACCCTCGGGGGGCGCGCCTGCGGTTGCGCCCCGCCGTCGCCGGCACGCGGCGCGGCCAGCCGGGGCCAGCTGCCCCGGGCCCCCTTTGACTCCGGGGGCGCGGGGGAGTGGGTGGTAGGCGCGGGTCGGGGGCCCAATTCGCCCTGGGTGGCTGGTACCGGGAACGGGGCGGGTCCAGCGCCGCATTCCCTCGCCGCGCGACCCATCCGACGTCCCCGTCCGCCGCGCTTCGCTCCGCCGCGGGCGGTCCGCGGGCGCGAGGCGTGCCGCCGCCCGCGACCACGGGGGACCCCGGGGCGGGCC'"
      ]
     },
     "execution_count": 12,
     "metadata": {},
     "output_type": "execute_result"
    }
   ],
   "source": [
    "final_seq = list()\n",
    "for i in range(0,2000):\n",
    "    final_seq.append(\n",
    "        generate_n(rd.randint(0,99))\n",
    "        )\n",
    "''.join(final_seq)"
   ]
  },
  {
   "attachments": {},
   "cell_type": "markdown",
   "metadata": {},
   "source": [
    "tsk 3\n",
    "\n",
    "666 ac\n",
    "\n",
    "Q prob = 1/10\n",
    "\n",
    "Q after Q prob = 8/10"
   ]
  },
  {
   "cell_type": "code",
   "execution_count": 15,
   "metadata": {},
   "outputs": [],
   "source": [
    "l_ac_no_Q = list(\"GPKAVIPFYWSTDENCMHR\")"
   ]
  },
  {
   "cell_type": "code",
   "execution_count": 22,
   "metadata": {},
   "outputs": [],
   "source": [
    "def generate_seq_Q_specified(sed, last_let):\n",
    "        if last_let == 'Q':\n",
    "                if sed < 80:\n",
    "                        return 'Q'\n",
    "                else:\n",
    "                        return l_ac_no_Q[rd.randint(0,18)]\n",
    "        else:\n",
    "                if sed < 10:\n",
    "                        return 'Q'\n",
    "                else:\n",
    "                        return l_ac_no_Q[rd.randint(0,18)]  "
   ]
  },
  {
   "cell_type": "code",
   "execution_count": 23,
   "metadata": {},
   "outputs": [
    {
     "data": {
      "text/plain": [
       "'KVPMWCPHTQQQQQQQQMSRQQRKNQQQNFPIFRQQQKHPWQQWTPWPAYTQIRHAEFFQHPKIFQQQQQQQQQQQQQQAMGYQQQHYSRCMNPCDEPRHMPPFFTPWPSVKNKRSEDFDHVVAIKQQNDPRYHYNDPQQEYDPHPHQQSQQYCQCHQQQEFSQQQFTAQQQQQQQQQQQPWVNIDYADENHMWGDPDITYFVCHFQQGDGCQQRQQQQENSIIHHTRGRKYRWRKRHWNIFQQQQQQQQTQQDFRRAVNQQQQQQQQQQQQQQQQQQQHQQQQQYPQPCDSCNQQQQQQQQQQHVAICVTNTINHMNQQQQQQQQQQQQAQQQQQQPRAFRMNEDHSAPKDPEYYINCQQQQQQPHEGWFPHMVSTQQCDGSNIAQQQQQQQQQQQQQQPEPDEIPQQQYCKDYYCFSHFRHGPRYQQNSVCNKPATKHGAPMTPGFPHGHTPDYWFIMMQQSQQWAGGRGDPKCKSSYPNWGPNNPYRWVIRQQQQQQQSFQQQQFPRQQQQQQQTGIEPQQQQQQQQQCQQTEIKCPVEMKIAISPPCETPCTQRQQQQQQFWYTPPPRSKCWWHSCAQQQQQQQQQQQQQQSPTEGVCRQQYWYFVRCTVFHTPQQQEVHQQQCPYWGEQQQQSGTIYPTVTEIYQQQQQQQVQQKWRDTWC'"
      ]
     },
     "execution_count": 23,
     "metadata": {},
     "output_type": "execute_result"
    }
   ],
   "source": [
    "final_seq = list()\n",
    "final_seq.append('S')\n",
    "for i in range(0,666):\n",
    "    final_seq.append(\n",
    "        generate_seq_Q_specified(rd.randint(0,99),final_seq[-1])\n",
    "        )\n",
    "''.join(final_seq[1:])"
   ]
  }
 ],
 "metadata": {
  "kernelspec": {
   "display_name": "Python 3",
   "language": "python",
   "name": "python3"
  },
  "language_info": {
   "codemirror_mode": {
    "name": "ipython",
    "version": 3
   },
   "file_extension": ".py",
   "mimetype": "text/x-python",
   "name": "python",
   "nbconvert_exporter": "python",
   "pygments_lexer": "ipython3",
   "version": "3.10.9"
  },
  "orig_nbformat": 4,
  "vscode": {
   "interpreter": {
    "hash": "e7370f93d1d0cde622a1f8e1c04877d8463912d04d973331ad4851f04de6915a"
   }
  }
 },
 "nbformat": 4,
 "nbformat_minor": 2
}
